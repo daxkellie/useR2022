{
  "cells": [
    {
      "cell_type": "raw",
      "metadata": {},
      "source": [
        "---\n",
        "title: |\n",
        "  Exploring biodiversity data is tidier than ever\n",
        "author: |\n",
        "  Dax Kellie, Jenna Wraith, Martin Westgate <br>\n",
        "  ![](images/logos/ALA_Logo.png){style=\"width: auto; height: 150px; margin-top: 200px\"} ![](images/logos/NCRIS_logo.png){style=\"width: auto; height: 150px; margin-top: 200px\"} ![](images/logos/CSIRO_logo.png){style=\"width: auto; height: 150px; margin-top: 200px\"} <br>\n",
        "  ![](images/logos/twitter_blue.png){style=\"width: auto; height: 50px; float:left; margin-top: 50px\"} <p style = \"float:left; margin-top: 40px\">   @daxkellie <p/>\n",
        "format: \n",
        "  revealjs: \n",
        "    theme: [simple, custom.scss] \n",
        "    transition: slide\n",
        "    transition-speed: fast\n",
        "editor: visual\n",
        "---"
      ],
      "id": "5a05424b"
    },
    {
      "cell_type": "markdown",
      "metadata": {},
      "source": [
        "::: {.r-fit-text}\n",
        "2.1 billion records\n",
        ":::\n",
        "(in GBIF)\n",
        "\n",
        "# The Atlas of Living Australia (ALA)\n",
        "\n",
        "\n",
        "```{css}\n",
        ".clipped {\n",
        "  clip-path: circle();\n",
        "}\n",
        "```"
      ],
      "id": "3b9a46d2"
    }
  ],
  "metadata": {
    "kernelspec": {
      "display_name": "Python 3",
      "language": "python",
      "name": "python3"
    }
  },
  "nbformat": 4,
  "nbformat_minor": 5
}